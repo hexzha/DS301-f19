{
  "nbformat": 4,
  "nbformat_minor": 0,
  "metadata": {
    "kernelspec": {
      "name": "python3",
      "display_name": "Python 3"
    },
    "language_info": {
      "codemirror_mode": {
        "name": "ipython",
        "version": 3
      },
      "file_extension": ".py",
      "mimetype": "text/x-python",
      "name": "python",
      "nbconvert_exporter": "python",
      "pygments_lexer": "ipython3",
      "version": "3.7.3"
    },
    "colab": {
      "name": "Lab6:PCA_ZhangHexiang.ipynb",
      "provenance": [],
      "collapsed_sections": [],
      "include_colab_link": true
    },
    "accelerator": "GPU"
  },
  "cells": [
    {
      "cell_type": "markdown",
      "metadata": {
        "id": "view-in-github",
        "colab_type": "text"
      },
      "source": [
        "<a href=\"https://colab.research.google.com/github/hexzha/DS301-f19/blob/master/Lab6_PCA_ZhangHexiang.ipynb\" target=\"_parent\"><img src=\"https://colab.research.google.com/assets/colab-badge.svg\" alt=\"Open In Colab\"/></a>"
      ]
    },
    {
      "cell_type": "markdown",
      "metadata": {
        "colab_type": "text",
        "id": "x3Lg0Jf6ohrp"
      },
      "source": [
        "# Lab 6 - Principal Component Analysis"
      ]
    },
    {
      "cell_type": "code",
      "metadata": {
        "id": "m47tn52QDFLW",
        "colab_type": "code",
        "colab": {
          "base_uri": "https://localhost:8080/",
          "height": 34
        },
        "outputId": "6a841881-eb60-4736-9d7e-e4379b8b83e0"
      },
      "source": [
        "import numpy as np\n",
        "import pandas as pd\n",
        "from sklearn.decomposition import PCA\n",
        "from keras.datasets import fashion_mnist\n",
        "from sklearn.linear_model import LogisticRegression\n",
        "from timeit import default_timer as timer\n",
        "from sklearn.preprocessing import StandardScaler\n",
        "\n",
        "(X_train, y_train), (X_test, y_test) = fashion_mnist.load_data()\n",
        "\n",
        "X_train=X_train.reshape(60000, 28*28)\n",
        "X_test=X_test.reshape(10000, 28*28)"
      ],
      "execution_count": 1,
      "outputs": [
        {
          "output_type": "stream",
          "text": [
            "Using TensorFlow backend.\n"
          ],
          "name": "stderr"
        }
      ]
    },
    {
      "cell_type": "code",
      "metadata": {
        "id": "69HmZNsWDFLn",
        "colab_type": "code",
        "colab": {}
      },
      "source": [
        "# Project down to d = 4 dimensions\n",
        "pca = PCA(n_components = 4)\n",
        "X_train_pca=pca.fit_transform(X_train)\n",
        "X_test_pca = pca.transform(X_test)"
      ],
      "execution_count": 0,
      "outputs": []
    },
    {
      "cell_type": "code",
      "metadata": {
        "id": "JLyzsrIdDFLq",
        "colab_type": "code",
        "outputId": "b6c79822-3e5a-4b8c-af70-6d126dce7372",
        "colab": {
          "base_uri": "https://localhost:8080/",
          "height": 34
        }
      },
      "source": [
        "# Display Explained Variance Ratio\n",
        "pca.explained_variance_ratio_"
      ],
      "execution_count": 3,
      "outputs": [
        {
          "output_type": "execute_result",
          "data": {
            "text/plain": [
              "array([0.29039228, 0.1775531 , 0.06019222, 0.04957428])"
            ]
          },
          "metadata": {
            "tags": []
          },
          "execution_count": 3
        }
      ]
    },
    {
      "cell_type": "code",
      "metadata": {
        "id": "w4oyHkHtDFLv",
        "colab_type": "code",
        "colab": {
          "base_uri": "https://localhost:8080/",
          "height": 119
        },
        "outputId": "dab13a77-c006-4537-d27e-e250656a6c15"
      },
      "source": [
        "# Display Preserving the training set's variance\n",
        "pca = PCA()\n",
        "pca.fit(X_train)\n",
        "cumsum = np.cumsum(pca.explained_variance_ratio_)\n",
        "d1 = np.argmax(cumsum >= 0.25)+1\n",
        "d2 = np.argmax(cumsum >= 0.50)+1\n",
        "d3 = np.argmax(cumsum >= 0.75)+1\n",
        "d4 = np.argmax(cumsum >= 0.95)+1\n",
        "d5 = np.argmax(cumsum >= 1.00)+1\n",
        "\n",
        "print(\"Number of Principal Components required to obtain -\\n25% variance = \",d1,\" \\n50% variance = \",d2,\" \\n75% variance = \", d3,\"\\n95% variance = \",d4,\"\\n100% variance = \",d5)"
      ],
      "execution_count": 4,
      "outputs": [
        {
          "output_type": "stream",
          "text": [
            "Number of Principal Components required to obtain -\n",
            "25% variance =  1  \n",
            "50% variance =  3  \n",
            "75% variance =  14 \n",
            "95% variance =  187 \n",
            "100% variance =  784\n"
          ],
          "name": "stdout"
        }
      ]
    },
    {
      "cell_type": "code",
      "metadata": {
        "id": "aKqA9mM-DFL1",
        "colab_type": "code",
        "colab": {}
      },
      "source": [
        "# Compressing datasets using PCA (with 95% variance)\n",
        "X_train=X_train.astype('float64')\n",
        "pca = PCA(n_components = 187)\n",
        "X_reduced = pca.fit_transform(X_train)"
      ],
      "execution_count": 0,
      "outputs": []
    },
    {
      "cell_type": "code",
      "metadata": {
        "id": "Yp4YW1C-SZ2x",
        "colab_type": "code",
        "outputId": "3f3eea33-6d34-4bab-8a84-72de33680486",
        "colab": {
          "base_uri": "https://localhost:8080/",
          "height": 34
        }
      },
      "source": [
        "# Display the size of X_train.nbytes\n",
        "X_train.nbytes"
      ],
      "execution_count": 6,
      "outputs": [
        {
          "output_type": "execute_result",
          "data": {
            "text/plain": [
              "376320000"
            ]
          },
          "metadata": {
            "tags": []
          },
          "execution_count": 6
        }
      ]
    },
    {
      "cell_type": "code",
      "metadata": {
        "id": "EuvsT39lSm6f",
        "colab_type": "code",
        "outputId": "bf46fc79-7017-4899-99bd-e83c610ea031",
        "colab": {
          "base_uri": "https://localhost:8080/",
          "height": 34
        }
      },
      "source": [
        "# Display the size of X_reduced.nbytes\n",
        "X_reduced.nbytes"
      ],
      "execution_count": 7,
      "outputs": [
        {
          "output_type": "execute_result",
          "data": {
            "text/plain": [
              "89760000"
            ]
          },
          "metadata": {
            "tags": []
          },
          "execution_count": 7
        }
      ]
    },
    {
      "cell_type": "code",
      "metadata": {
        "id": "kjL_E_Gtj4VO",
        "colab_type": "code",
        "colab": {}
      },
      "source": [
        "scaler = StandardScaler()\n",
        "scaler.fit(X_train)\n",
        "X_train = scaler.transform(X_train)\n",
        "X_test = scaler.transform(X_test)"
      ],
      "execution_count": 0,
      "outputs": []
    },
    {
      "cell_type": "code",
      "metadata": {
        "id": "aq2ljEkRj4Y3",
        "colab_type": "code",
        "colab": {}
      },
      "source": [
        "pca = PCA(n_components = 187)\n",
        "X_train_pca=pca.fit_transform(X_train)\n",
        "X_test_pca = pca.transform(X_test)"
      ],
      "execution_count": 0,
      "outputs": []
    },
    {
      "cell_type": "code",
      "metadata": {
        "id": "kCSGntESj4dB",
        "colab_type": "code",
        "outputId": "c797e5aa-a0cd-4cb7-f57d-afd905cda2ab",
        "colab": {
          "base_uri": "https://localhost:8080/",
          "height": 68
        }
      },
      "source": [
        "# Speed of classifier.fit() for X_train_pca \n",
        "start = timer()\n",
        "log_clf = LogisticRegression(solver = 'lbfgs', multi_class='auto')\n",
        "log_clf.fit(X_train_pca, y_train)\n",
        "end = timer()\n",
        "print(\"Log_clf on PCA(comp=187)-Training time: \", end - start)"
      ],
      "execution_count": 10,
      "outputs": [
        {
          "output_type": "stream",
          "text": [
            "Log_clf on PCA(comp=187)-Training time:  15.399660013000357\n"
          ],
          "name": "stdout"
        },
        {
          "output_type": "stream",
          "text": [
            "/usr/local/lib/python3.6/dist-packages/sklearn/linear_model/logistic.py:947: ConvergenceWarning: lbfgs failed to converge. Increase the number of iterations.\n",
            "  \"of iterations.\", ConvergenceWarning)\n"
          ],
          "name": "stderr"
        }
      ]
    },
    {
      "cell_type": "code",
      "metadata": {
        "colab_type": "code",
        "outputId": "7417eba7-6fd0-4b4c-c589-f22106ebeed5",
        "id": "C0xJ9KZnnJDp",
        "colab": {
          "base_uri": "https://localhost:8080/",
          "height": 68
        }
      },
      "source": [
        "# Speed of classifier.fit() for X_train\n",
        "(X_train, y_train), (X_test, y_test) = fashion_mnist.load_data()\n",
        "X_train=X_train.reshape(60000, 28*28)\n",
        "X_test=X_test.reshape(10000, 28*28)\n",
        "\n",
        "start = timer()\n",
        "log_clf = LogisticRegression(solver = 'lbfgs', multi_class='auto')\n",
        "log_clf.fit(X_train, y_train)\n",
        "end = timer()\n",
        "print(\"Log_clf on Regular X_train-Training time: \", end - start) "
      ],
      "execution_count": 11,
      "outputs": [
        {
          "output_type": "stream",
          "text": [
            "Log_clf on Regular X_train-Training time:  44.036053103000086\n"
          ],
          "name": "stdout"
        },
        {
          "output_type": "stream",
          "text": [
            "/usr/local/lib/python3.6/dist-packages/sklearn/linear_model/logistic.py:947: ConvergenceWarning: lbfgs failed to converge. Increase the number of iterations.\n",
            "  \"of iterations.\", ConvergenceWarning)\n"
          ],
          "name": "stderr"
        }
      ]
    }
  ]
}