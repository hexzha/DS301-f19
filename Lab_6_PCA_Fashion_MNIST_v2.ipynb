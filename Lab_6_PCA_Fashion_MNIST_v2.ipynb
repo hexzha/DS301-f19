{
  "nbformat": 4,
  "nbformat_minor": 0,
  "metadata": {
    "kernelspec": {
      "name": "python3",
      "display_name": "Python 3"
    },
    "language_info": {
      "codemirror_mode": {
        "name": "ipython",
        "version": 3
      },
      "file_extension": ".py",
      "mimetype": "text/x-python",
      "name": "python",
      "nbconvert_exporter": "python",
      "pygments_lexer": "ipython3",
      "version": "3.7.3"
    },
    "colab": {
      "name": "Lab_6_PCA_Fashion_MNIST-v2.ipynb",
      "provenance": [],
      "collapsed_sections": [],
      "include_colab_link": true
    },
    "accelerator": "GPU"
  },
  "cells": [
    {
      "cell_type": "markdown",
      "metadata": {
        "id": "view-in-github",
        "colab_type": "text"
      },
      "source": [
        "<a href=\"https://colab.research.google.com/github/asukul/DS301-f19/blob/master/Lab_6_PCA_Fashion_MNIST_v2.ipynb\" target=\"_parent\"><img src=\"https://colab.research.google.com/assets/colab-badge.svg\" alt=\"Open In Colab\"/></a>"
      ]
    },
    {
      "cell_type": "markdown",
      "metadata": {
        "id": "dzfSTCIHDFLV",
        "colab_type": "text"
      },
      "source": [
        "# Lab 6 - Principal Component Analysis"
      ]
    },
    {
      "cell_type": "markdown",
      "metadata": {
        "id": "XRQCsLenDFLW",
        "colab_type": "text"
      },
      "source": [
        "#### A large part of the code was taken from <br>\n",
        "#### 1. https://github.com/ageron/handson-ml <br>\n",
        "#### 2. https://www.kaggle.com/residentmario/dimensionality-reduction-and-pca-for-fashion-mnist"
      ]
    },
    {
      "cell_type": "code",
      "metadata": {
        "id": "m47tn52QDFLW",
        "colab_type": "code",
        "colab": {}
      },
      "source": [
        "import numpy as np\n",
        "import pandas as pd\n",
        "import matplotlib.pyplot as plt\n",
        "import seaborn as sns\n",
        "from sklearn.decomposition import PCA"
      ],
      "execution_count": 0,
      "outputs": []
    },
    {
      "cell_type": "markdown",
      "metadata": {
        "id": "q3LKSAbGDFLZ",
        "colab_type": "text"
      },
      "source": [
        "#### Load the Fashion MNIST dataset"
      ]
    },
    {
      "cell_type": "code",
      "metadata": {
        "id": "b6gwkjqBDFLa",
        "colab_type": "code",
        "outputId": "d54eeb12-8c4a-49b3-a789-109eb6675f19",
        "colab": {
          "base_uri": "https://localhost:8080/",
          "height": 34
        }
      },
      "source": [
        "from keras.datasets import fashion_mnist\n",
        "(X_train, y_train), (X_test, y_test) = fashion_mnist.load_data()"
      ],
      "execution_count": 2,
      "outputs": [
        {
          "output_type": "stream",
          "text": [
            "Using TensorFlow backend.\n"
          ],
          "name": "stderr"
        }
      ]
    },
    {
      "cell_type": "code",
      "metadata": {
        "id": "006zKhxGDFLc",
        "colab_type": "code",
        "outputId": "62ea9855-f186-4727-e304-9685f37a09c5",
        "colab": {
          "base_uri": "https://localhost:8080/",
          "height": 286
        }
      },
      "source": [
        "plt.imshow(X_train[1])"
      ],
      "execution_count": 3,
      "outputs": [
        {
          "output_type": "execute_result",
          "data": {
            "text/plain": [
              "<matplotlib.image.AxesImage at 0x7fd77478c198>"
            ]
          },
          "metadata": {
            "tags": []
          },
          "execution_count": 3
        },
        {
          "output_type": "display_data",
          "data": {
            "image/png": "[encoded data removed]",
            "text/plain": [
              "<Figure size 432x288 with 1 Axes>"
            ]
          },
          "metadata": {
            "tags": []
          }
        }
      ]
    },
    {
      "cell_type": "code",
      "metadata": {
        "id": "w3qNYPXEDFLf",
        "colab_type": "code",
        "outputId": "18997f5b-88e6-4024-b6a5-4508b9ac0198",
        "colab": {
          "base_uri": "https://localhost:8080/",
          "height": 34
        }
      },
      "source": [
        "X_train.shape"
      ],
      "execution_count": 4,
      "outputs": [
        {
          "output_type": "execute_result",
          "data": {
            "text/plain": [
              "(60000, 28, 28)"
            ]
          },
          "metadata": {
            "tags": []
          },
          "execution_count": 4
        }
      ]
    },
    {
      "cell_type": "code",
      "metadata": {
        "id": "cvBgqreEDFLh",
        "colab_type": "code",
        "colab": {}
      },
      "source": [
        "X_train=X_train.reshape(60000, 28*28)"
      ],
      "execution_count": 0,
      "outputs": []
    },
    {
      "cell_type": "code",
      "metadata": {
        "id": "6TCUNAz_DFLk",
        "colab_type": "code",
        "outputId": "fa50c161-30a7-4003-e705-b8952117d6c0",
        "colab": {
          "base_uri": "https://localhost:8080/",
          "height": 34
        }
      },
      "source": [
        "X_train.shape"
      ],
      "execution_count": 6,
      "outputs": [
        {
          "output_type": "execute_result",
          "data": {
            "text/plain": [
              "(60000, 784)"
            ]
          },
          "metadata": {
            "tags": []
          },
          "execution_count": 6
        }
      ]
    },
    {
      "cell_type": "code",
      "metadata": {
        "id": "GDgI1iaa0dmy",
        "colab_type": "code",
        "outputId": "b104846e-3711-47d5-bd54-f16b7b749e37",
        "colab": {
          "base_uri": "https://localhost:8080/",
          "height": 34
        }
      },
      "source": [
        "X_test.shape"
      ],
      "execution_count": 7,
      "outputs": [
        {
          "output_type": "execute_result",
          "data": {
            "text/plain": [
              "(10000, 28, 28)"
            ]
          },
          "metadata": {
            "tags": []
          },
          "execution_count": 7
        }
      ]
    },
    {
      "cell_type": "code",
      "metadata": {
        "id": "lmUFzQPy0drv",
        "colab_type": "code",
        "colab": {}
      },
      "source": [
        "X_test=X_test.reshape(10000, 28*28)"
      ],
      "execution_count": 0,
      "outputs": []
    },
    {
      "cell_type": "code",
      "metadata": {
        "id": "8xvP02eo0dvG",
        "colab_type": "code",
        "outputId": "87814b77-6c35-4fdc-8528-c75a1241b9be",
        "colab": {
          "base_uri": "https://localhost:8080/",
          "height": 34
        }
      },
      "source": [
        "X_test.shape"
      ],
      "execution_count": 9,
      "outputs": [
        {
          "output_type": "execute_result",
          "data": {
            "text/plain": [
              "(10000, 784)"
            ]
          },
          "metadata": {
            "tags": []
          },
          "execution_count": 9
        }
      ]
    },
    {
      "cell_type": "markdown",
      "metadata": {
        "id": "rjpSpK8sDFLm",
        "colab_type": "text"
      },
      "source": [
        "#### Projecting down to d = 4 dimensions"
      ]
    },
    {
      "cell_type": "markdown",
      "metadata": {
        "id": "KMzqlCNTKJWr",
        "colab_type": "text"
      },
      "source": [
        "#### The top *d* principal components are projected onto a hyperplane, which causes the dimensionality of the dataset to be reduced to *d* dimenions."
      ]
    },
    {
      "cell_type": "code",
      "metadata": {
        "id": "69HmZNsWDFLn",
        "colab_type": "code",
        "colab": {}
      },
      "source": [
        "pca = PCA(n_components = 8)\n",
        "X_train_pca=pca.fit_transform(X_train)\n",
        "X_test_pca = pca.transform(X_test)\n"
      ],
      "execution_count": 0,
      "outputs": []
    },
    {
      "cell_type": "markdown",
      "metadata": {
        "id": "NGvltPrQDFLp",
        "colab_type": "text"
      },
      "source": [
        "#### Explained Variance Ratio"
      ]
    },
    {
      "cell_type": "code",
      "metadata": {
        "id": "JLyzsrIdDFLq",
        "colab_type": "code",
        "outputId": "ba3e496c-8bcc-4937-9fec-6a2e4854ff5d",
        "colab": {
          "base_uri": "https://localhost:8080/",
          "height": 51
        }
      },
      "source": [
        "pca.explained_variance_ratio_\n"
      ],
      "execution_count": 11,
      "outputs": [
        {
          "output_type": "execute_result",
          "data": {
            "text/plain": [
              "array([0.29039228, 0.1775531 , 0.06019222, 0.04957428, 0.03847655,\n",
              "       0.03460769, 0.02341691, 0.01905414])"
            ]
          },
          "metadata": {
            "tags": []
          },
          "execution_count": 11
        }
      ]
    },
    {
      "cell_type": "code",
      "metadata": {
        "id": "AzKBJH9KDFLs",
        "colab_type": "code",
        "outputId": "3ea65f87-1e62-4d7f-e9bb-0d0db16e8ab1",
        "colab": {
          "base_uri": "https://localhost:8080/",
          "height": 286
        }
      },
      "source": [
        "sns.heatmap(pca.components_[0].reshape(28, 28), cmap='gray_r')"
      ],
      "execution_count": 12,
      "outputs": [
        {
          "output_type": "execute_result",
          "data": {
            "text/plain": [
              "<matplotlib.axes._subplots.AxesSubplot at 0x7fd771c77f60>"
            ]
          },
          "metadata": {
            "tags": []
          },
          "execution_count": 12
        },
        {
          "output_type": "display_data",
          "data": {
            "image/png": "[encoded data removed]",
            "text/plain": [
              "<Figure size 432x288 with 2 Axes>"
            ]
          },
          "metadata": {
            "tags": []
          }
        }
      ]
    },
    {
      "cell_type": "markdown",
      "metadata": {
        "id": "_D6qUWX0DFLu",
        "colab_type": "text"
      },
      "source": [
        "#### Preserving the training set's variance"
      ]
    },
    {
      "cell_type": "markdown",
      "metadata": {
        "id": "2u1C8Z-5LvG9",
        "colab_type": "text"
      },
      "source": [
        "#### This step automatically selects a certain number of dimensions, that will sum to the specified variance."
      ]
    },
    {
      "cell_type": "code",
      "metadata": {
        "id": "w4oyHkHtDFLv",
        "colab_type": "code",
        "colab": {}
      },
      "source": [
        "pca = PCA()\n",
        "pca.fit(X_train)\n",
        "cumsum = np.cumsum(pca.explained_variance_ratio_)\n",
        "d1 = np.argmax(cumsum >= 0.25)+1\n",
        "d2 = np.argmax(cumsum >= 0.50)+1\n",
        "d3 = np.argmax(cumsum >= 0.75)+1\n",
        "d4 = np.argmax(cumsum >= 0.95)+1\n",
        "d5 = np.argmax(cumsum >= 1.00)+1"
      ],
      "execution_count": 0,
      "outputs": []
    },
    {
      "cell_type": "code",
      "metadata": {
        "id": "bsPSvq_dDFLx",
        "colab_type": "code",
        "outputId": "91338dd8-735a-4729-9d65-01820fe9c49a",
        "colab": {
          "base_uri": "https://localhost:8080/",
          "height": 119
        }
      },
      "source": [
        "print(\"The number of Principal Components required to obtain -\\n 1. 25% variance = \",d1,\" \\n 2. 50% variance = \",d2,\" \\n 3. 75% variance =\", d3,\"\\n 4. 95% variance = \",d4,\"\\n 5. 100% variance = \",d5)"
      ],
      "execution_count": 14,
      "outputs": [
        {
          "output_type": "stream",
          "text": [
            "The number of Principal Components required to obtain -\n",
            " 1. 25% variance =  1  \n",
            " 2. 50% variance =  3  \n",
            " 3. 75% variance = 14 \n",
            " 4. 95% variance =  187 \n",
            " 5. 100% variance =  784\n"
          ],
          "name": "stdout"
        }
      ]
    },
    {
      "cell_type": "markdown",
      "metadata": {
        "id": "nz0J18ENDFL0",
        "colab_type": "text"
      },
      "source": [
        "#### Compressing datasets using PCA"
      ]
    },
    {
      "cell_type": "markdown",
      "metadata": {
        "id": "LiePJkZUMXek",
        "colab_type": "text"
      },
      "source": [
        "#### We can compress datasets using PCA and therefore use it to acclerate ML algorithms!"
      ]
    },
    {
      "cell_type": "code",
      "metadata": {
        "id": "aKqA9mM-DFL1",
        "colab_type": "code",
        "colab": {}
      },
      "source": [
        "X_train=X_train.astype('float64')\n",
        "pca = PCA(n_components = 187)\n",
        "X_reduced = pca.fit_transform(X_train)\n",
        "X_recovered = pca.inverse_transform(X_reduced)"
      ],
      "execution_count": 0,
      "outputs": []
    },
    {
      "cell_type": "code",
      "metadata": {
        "id": "RThPxtCUPlsV",
        "colab_type": "code",
        "outputId": "6a7ace11-f130-4cca-ddc1-ba6f4db59e01",
        "colab": {
          "base_uri": "https://localhost:8080/",
          "height": 34
        }
      },
      "source": [
        "X_train.dtype"
      ],
      "execution_count": 16,
      "outputs": [
        {
          "output_type": "execute_result",
          "data": {
            "text/plain": [
              "dtype('float64')"
            ]
          },
          "metadata": {
            "tags": []
          },
          "execution_count": 16
        }
      ]
    },
    {
      "cell_type": "code",
      "metadata": {
        "id": "Yp4YW1C-SZ2x",
        "colab_type": "code",
        "outputId": "1a42d055-3407-4cc4-c27b-aa0b46e8b22c",
        "colab": {
          "base_uri": "https://localhost:8080/",
          "height": 34
        }
      },
      "source": [
        "X_train.nbytes"
      ],
      "execution_count": 17,
      "outputs": [
        {
          "output_type": "execute_result",
          "data": {
            "text/plain": [
              "376320000"
            ]
          },
          "metadata": {
            "tags": []
          },
          "execution_count": 17
        }
      ]
    },
    {
      "cell_type": "code",
      "metadata": {
        "id": "fVmHxoA1NSMC",
        "colab_type": "code",
        "outputId": "5fb4e374-2ee6-41eb-a7a2-711d8532fd7a",
        "colab": {
          "base_uri": "https://localhost:8080/",
          "height": 34
        }
      },
      "source": [
        "X_train.dtype"
      ],
      "execution_count": 18,
      "outputs": [
        {
          "output_type": "execute_result",
          "data": {
            "text/plain": [
              "dtype('float64')"
            ]
          },
          "metadata": {
            "tags": []
          },
          "execution_count": 18
        }
      ]
    },
    {
      "cell_type": "code",
      "metadata": {
        "id": "EuvsT39lSm6f",
        "colab_type": "code",
        "outputId": "f69925de-2e2a-4f5a-d21a-7250906bee00",
        "colab": {
          "base_uri": "https://localhost:8080/",
          "height": 34
        }
      },
      "source": [
        "X_reduced.nbytes"
      ],
      "execution_count": 19,
      "outputs": [
        {
          "output_type": "execute_result",
          "data": {
            "text/plain": [
              "89760000"
            ]
          },
          "metadata": {
            "tags": []
          },
          "execution_count": 19
        }
      ]
    },
    {
      "cell_type": "code",
      "metadata": {
        "id": "LxD9dh36NWvI",
        "colab_type": "code",
        "outputId": "2835dab7-821d-4b70-901d-69800b8d81a7",
        "colab": {
          "base_uri": "https://localhost:8080/",
          "height": 34
        }
      },
      "source": [
        "X_reduced.dtype"
      ],
      "execution_count": 20,
      "outputs": [
        {
          "output_type": "execute_result",
          "data": {
            "text/plain": [
              "dtype('float64')"
            ]
          },
          "metadata": {
            "tags": []
          },
          "execution_count": 20
        }
      ]
    },
    {
      "cell_type": "markdown",
      "metadata": {
        "id": "CczvR4WSNVio",
        "colab_type": "text"
      },
      "source": [
        ""
      ]
    },
    {
      "cell_type": "code",
      "metadata": {
        "id": "VeDgDSQwDFL3",
        "colab_type": "code",
        "colab": {}
      },
      "source": [
        "\n",
        "def plot_digits(instances, images_per_row=5, **options):\n",
        "    size = 28\n",
        "    images_per_row = min(len(instances), images_per_row)\n",
        "    images = [instance.reshape(size,size) for instance in instances]\n",
        "    n_rows = (len(instances) - 1) // images_per_row + 1\n",
        "    row_images = []\n",
        "    n_empty = n_rows * images_per_row - len(instances)\n",
        "    images.append(np.zeros((size, size * n_empty)))\n",
        "    for row in range(n_rows):\n",
        "        rimages = images[row * images_per_row : (row + 1) * images_per_row]\n",
        "        row_images.append(np.concatenate(rimages, axis=1))\n",
        "    image = np.concatenate(row_images, axis=0)\n",
        "    plt.imshow(image, **options)\n",
        "    plt.axis(\"off\")"
      ],
      "execution_count": 0,
      "outputs": []
    },
    {
      "cell_type": "code",
      "metadata": {
        "id": "Gkz_MaWtDFL5",
        "colab_type": "code",
        "outputId": "806c08a9-2fbc-4343-848e-a09b8fc18b03",
        "colab": {
          "base_uri": "https://localhost:8080/",
          "height": 296
        }
      },
      "source": [
        "plt.figure(figsize=(7, 4))\n",
        "plt.subplot(121)\n",
        "plot_digits(X_train[::2100])\n",
        "plt.title(\"Original\", fontsize=16)\n",
        "plt.subplot(122)\n",
        "plot_digits(X_recovered[::2100])\n",
        "plt.title(\"Recovered after compression\", fontsize=16)\n",
        "\n"
      ],
      "execution_count": 22,
      "outputs": [
        {
          "output_type": "execute_result",
          "data": {
            "text/plain": [
              "Text(0.5, 1.0, 'Recovered after compression')"
            ]
          },
          "metadata": {
            "tags": []
          },
          "execution_count": 22
        },
        {
          "output_type": "display_data",
          "data": {
            "image/png": "[encoded data removed]",
            "text/plain": [
              "<Figure size 504x288 with 2 Axes>"
            ]
          },
          "metadata": {
            "tags": []
          }
        }
      ]
    },
    {
      "cell_type": "markdown",
      "metadata": {
        "id": "WisVmILEJVp4",
        "colab_type": "text"
      },
      "source": [
        "## PCA to Speed-up Machine Learning Algorithms"
      ]
    },
    {
      "cell_type": "code",
      "metadata": {
        "id": "dKzQXgrNJULr",
        "colab_type": "code",
        "colab": {}
      },
      "source": [
        ""
      ],
      "execution_count": 0,
      "outputs": []
    },
    {
      "cell_type": "code",
      "metadata": {
        "id": "6cFGWRV1JVFh",
        "colab_type": "code",
        "colab": {}
      },
      "source": [
        ""
      ],
      "execution_count": 0,
      "outputs": []
    },
    {
      "cell_type": "code",
      "metadata": {
        "id": "_oQf-0jhJVIb",
        "colab_type": "code",
        "colab": {}
      },
      "source": [
        ""
      ],
      "execution_count": 0,
      "outputs": []
    },
    {
      "cell_type": "code",
      "metadata": {
        "id": "vuzEwNP3JVLI",
        "colab_type": "code",
        "colab": {}
      },
      "source": [
        ""
      ],
      "execution_count": 0,
      "outputs": []
    },
    {
      "cell_type": "code",
      "metadata": {
        "id": "dn33SpCXJVOb",
        "colab_type": "code",
        "colab": {}
      },
      "source": [
        ""
      ],
      "execution_count": 0,
      "outputs": []
    },
    {
      "cell_type": "markdown",
      "metadata": {
        "id": "FfDAEvP-zqFp",
        "colab_type": "text"
      },
      "source": [
        "## Fit and predict X_train vs X_train_pca with Classifier"
      ]
    },
    {
      "cell_type": "markdown",
      "metadata": {
        "id": "WzTypqD7ZAHK",
        "colab_type": "text"
      },
      "source": [
        "To mesuare your running time (timer) sample code:\n",
        "\n",
        "from timeit import default_timer as timer\n",
        "\n",
        "start = timer()\n",
        "# ...\n",
        "end = timer()\n",
        "print(end - start) # Time in seconds, e.g. 5.38091952400282"
      ]
    },
    {
      "cell_type": "markdown",
      "metadata": {
        "id": "73nTbyjVL-UN",
        "colab_type": "text"
      },
      "source": [
        "Using LogisticRegression Classifier on PCA(n_components = 4)"
      ]
    },
    {
      "cell_type": "code",
      "metadata": {
        "id": "2SeVw-dlj4Ni",
        "colab_type": "code",
        "colab": {}
      },
      "source": [
        ""
      ],
      "execution_count": 0,
      "outputs": []
    },
    {
      "cell_type": "markdown",
      "metadata": {
        "id": "mOYZZltPj5dT",
        "colab_type": "text"
      },
      "source": [
        "Scaler:\n",
        "\n",
        "\n",
        "from sklearn.preprocessing import StandardScaler\n",
        "\n",
        "x = StandardScaler().fit_transform(x)"
      ]
    },
    {
      "cell_type": "code",
      "metadata": {
        "id": "kjL_E_Gtj4VO",
        "colab_type": "code",
        "colab": {}
      },
      "source": [
        "#from sklearn.preprocessing import StandardScaler\n",
        "#X_train = StandardScaler().fit_transform(X_train)\n",
        "#X_test = StandardScaler().fit_transform(X_test)\n",
        "\n",
        "\n",
        "\n",
        "from sklearn.preprocessing import StandardScaler\n",
        "scaler = StandardScaler()\n",
        "# Fit on training set only.\n",
        "scaler.fit(X_train)\n",
        "# Apply transform to both the training set and the test set.\n",
        "X_train = scaler.transform(X_train)\n",
        "X_test = scaler.transform(X_test)\n"
      ],
      "execution_count": 0,
      "outputs": []
    },
    {
      "cell_type": "code",
      "metadata": {
        "id": "aq2ljEkRj4Y3",
        "colab_type": "code",
        "colab": {}
      },
      "source": [
        "pca = PCA(n_components = 4)\n",
        "X_train_pca=pca.fit_transform(X_train)\n",
        "X_test_pca = pca.transform(X_test)"
      ],
      "execution_count": 0,
      "outputs": []
    },
    {
      "cell_type": "code",
      "metadata": {
        "id": "kCSGntESj4dB",
        "colab_type": "code",
        "colab": {
          "base_uri": "https://localhost:8080/",
          "height": 85
        },
        "outputId": "0578dd05-5528-43d7-ef7b-96929062f8a5"
      },
      "source": [
        "from sklearn.linear_model import LogisticRegression\n",
        "\n",
        "# solver = 'lbfgs' for better performance\n",
        "\n",
        "from timeit import default_timer as timer\n",
        "\n",
        "start = timer()\n",
        "\n",
        "\n",
        "log_clf = LogisticRegression(solver = 'lbfgs', multi_class='auto')\n",
        "\n",
        "log_clf.fit(X_train_pca, y_train)\n",
        "\n",
        "\n",
        "end = timer()\n",
        "print(\"LogisticRegression Classifier on PCA(n_components = 4) - Training time: \", end - start) # Time in seconds, e.g. 5.38091952400282\n",
        "print()"
      ],
      "execution_count": 25,
      "outputs": [
        {
          "output_type": "stream",
          "text": [
            "LogisticRegression Classifier on PCA(n_components = 4) - Training time:  7.042987339998945\n",
            "\n"
          ],
          "name": "stdout"
        },
        {
          "output_type": "stream",
          "text": [
            "/usr/local/lib/python3.6/dist-packages/sklearn/linear_model/logistic.py:947: ConvergenceWarning: lbfgs failed to converge. Increase the number of iterations.\n",
            "  \"of iterations.\", ConvergenceWarning)\n"
          ],
          "name": "stderr"
        }
      ]
    },
    {
      "cell_type": "code",
      "metadata": {
        "id": "Hcp-VIpBj4gc",
        "colab_type": "code",
        "colab": {}
      },
      "source": [
        "#predict\n",
        "y_pred = log_clf.predict(X_test_pca)"
      ],
      "execution_count": 0,
      "outputs": []
    },
    {
      "cell_type": "code",
      "metadata": {
        "id": "E63MxTi5j4jv",
        "colab_type": "code",
        "colab": {
          "base_uri": "https://localhost:8080/",
          "height": 34
        },
        "outputId": "7be82f47-f469-46b9-fce0-f1c92fa0be8e"
      },
      "source": [
        "from sklearn.metrics import accuracy_score\n",
        "\n",
        "print(\"LogisticRegression Classifier on Scale PCA(n_components = 4) - Accuracy: \",accuracy_score(y_test, y_pred))"
      ],
      "execution_count": 27,
      "outputs": [
        {
          "output_type": "stream",
          "text": [
            "LogisticRegression Classifier on Scale PCA(n_components = 4) - Accuracy:  0.6665\n"
          ],
          "name": "stdout"
        }
      ]
    },
    {
      "cell_type": "code",
      "metadata": {
        "id": "6-y6rO7Rj4m5",
        "colab_type": "code",
        "colab": {}
      },
      "source": [
        ""
      ],
      "execution_count": 0,
      "outputs": []
    },
    {
      "cell_type": "code",
      "metadata": {
        "id": "XFt0jEumj4qd",
        "colab_type": "code",
        "colab": {}
      },
      "source": [
        ""
      ],
      "execution_count": 0,
      "outputs": []
    },
    {
      "cell_type": "code",
      "metadata": {
        "id": "ecASIziXj4t5",
        "colab_type": "code",
        "colab": {}
      },
      "source": [
        ""
      ],
      "execution_count": 0,
      "outputs": []
    },
    {
      "cell_type": "code",
      "metadata": {
        "id": "NFa4IHl71E1H",
        "colab_type": "code",
        "colab": {}
      },
      "source": [
        "pca = PCA(n_components = 4)\n",
        "X_train_pca=pca.fit_transform(X_train)\n",
        "X_test_pca = pca.transform(X_test)"
      ],
      "execution_count": 0,
      "outputs": []
    },
    {
      "cell_type": "code",
      "metadata": {
        "id": "rIAnoBhZbSxL",
        "colab_type": "code",
        "outputId": "73ed1e96-7a0f-4ed8-9337-097e69c41fdb",
        "colab": {
          "base_uri": "https://localhost:8080/",
          "height": 85
        }
      },
      "source": [
        "\n",
        "from sklearn.linear_model import LogisticRegression\n",
        "\n",
        "# solver = 'lbfgs' for better performance\n",
        "\n",
        "from timeit import default_timer as timer\n",
        "\n",
        "start = timer()\n",
        "\n",
        "\n",
        "log_clf = LogisticRegression(solver = 'lbfgs', multi_class='auto')\n",
        "\n",
        "log_clf.fit(X_train_pca, y_train)\n",
        "\n",
        "\n",
        "end = timer()\n",
        "print(\"LogisticRegression Classifier on PCA(n_components = 4) - Training time: \", end - start) # Time in seconds, e.g. 5.38091952400282\n",
        "print()"
      ],
      "execution_count": 29,
      "outputs": [
        {
          "output_type": "stream",
          "text": [
            "LogisticRegression Classifier on PCA(n_components = 4) - Training time:  7.022398269000405\n",
            "\n"
          ],
          "name": "stdout"
        },
        {
          "output_type": "stream",
          "text": [
            "/usr/local/lib/python3.6/dist-packages/sklearn/linear_model/logistic.py:947: ConvergenceWarning: lbfgs failed to converge. Increase the number of iterations.\n",
            "  \"of iterations.\", ConvergenceWarning)\n"
          ],
          "name": "stderr"
        }
      ]
    },
    {
      "cell_type": "markdown",
      "metadata": {
        "id": "VkA1yLG8XN9A",
        "colab_type": "text"
      },
      "source": [
        "Reference for solver = 'lbfgs'\n",
        "\n",
        "https://scikit-learn.org/stable/modules/linear_model.html\n",
        "\n",
        "The “lbfgs” is an optimization algorithm that approximates the Broyden–Fletcher–Goldfarb–Shanno algorithm [8], which belongs to quasi-Newton methods. The “lbfgs” solver is recommended for use for small data-sets but for larger datasets its performance suffers. [9]"
      ]
    },
    {
      "cell_type": "code",
      "metadata": {
        "id": "6Hzw5RQINi0-",
        "colab_type": "code",
        "colab": {}
      },
      "source": [
        "#predict\n",
        "y_pred = log_clf.predict(X_test_pca)"
      ],
      "execution_count": 0,
      "outputs": []
    },
    {
      "cell_type": "code",
      "metadata": {
        "id": "tnTcQnjAbss_",
        "colab_type": "code",
        "outputId": "3488ebd3-c18d-458d-f2ce-617f21073011",
        "colab": {
          "base_uri": "https://localhost:8080/",
          "height": 34
        }
      },
      "source": [
        "from sklearn.metrics import accuracy_score\n",
        "\n",
        "print(\"LogisticRegression Classifier on PCA(n_components = 4) - Accuracy: \",accuracy_score(y_test, y_pred))"
      ],
      "execution_count": 31,
      "outputs": [
        {
          "output_type": "stream",
          "text": [
            "LogisticRegression Classifier on PCA(n_components = 4) - Accuracy:  0.6656\n"
          ],
          "name": "stdout"
        }
      ]
    },
    {
      "cell_type": "code",
      "metadata": {
        "id": "fGmc5w0hLIC2",
        "colab_type": "code",
        "colab": {}
      },
      "source": [
        ""
      ],
      "execution_count": 0,
      "outputs": []
    },
    {
      "cell_type": "markdown",
      "metadata": {
        "id": "iyOKb6jLMGB6",
        "colab_type": "text"
      },
      "source": [
        "Using LogisticRegression Classifier on PCA(n_components = 14)"
      ]
    },
    {
      "cell_type": "code",
      "metadata": {
        "colab_type": "code",
        "id": "XZdIfISlMQ1A",
        "colab": {}
      },
      "source": [
        "pca = PCA(n_components = 14)\n",
        "X_train_pca=pca.fit_transform(X_train)\n",
        "X_test_pca = pca.transform(X_test)"
      ],
      "execution_count": 0,
      "outputs": []
    },
    {
      "cell_type": "code",
      "metadata": {
        "colab_type": "code",
        "outputId": "77e25314-521f-4f4d-c451-c9c1be9bb1b2",
        "id": "EQVm3oZFMDSH",
        "colab": {
          "base_uri": "https://localhost:8080/",
          "height": 68
        }
      },
      "source": [
        "\n",
        "from sklearn.linear_model import LogisticRegression\n",
        "\n",
        "\n",
        "start = timer()\n",
        "\n",
        "\n",
        "log_clf = LogisticRegression(solver = 'lbfgs', multi_class='auto')\n",
        "\n",
        "log_clf.fit(X_train_pca, y_train)\n",
        "\n",
        "\n",
        "end = timer()\n",
        "print(\"LogisticRegression Classifier on PCA(n_components = 14) - Training time: \", end - start) # Time in seconds, e.g. 5.38091952400282\n",
        "\n"
      ],
      "execution_count": 33,
      "outputs": [
        {
          "output_type": "stream",
          "text": [
            "LogisticRegression Classifier on PCA(n_components = 14) - Training time:  7.500947679000092\n"
          ],
          "name": "stdout"
        },
        {
          "output_type": "stream",
          "text": [
            "/usr/local/lib/python3.6/dist-packages/sklearn/linear_model/logistic.py:947: ConvergenceWarning: lbfgs failed to converge. Increase the number of iterations.\n",
            "  \"of iterations.\", ConvergenceWarning)\n"
          ],
          "name": "stderr"
        }
      ]
    },
    {
      "cell_type": "code",
      "metadata": {
        "id": "ysntUKrDEdbE",
        "colab_type": "code",
        "colab": {}
      },
      "source": [
        "#predict\n",
        "y_pred = log_clf.predict(X_test_pca)"
      ],
      "execution_count": 0,
      "outputs": []
    },
    {
      "cell_type": "code",
      "metadata": {
        "colab_type": "code",
        "outputId": "127d5a4c-ab18-4829-be37-ed18ed970d74",
        "id": "Q3EJbU8ZMDSO",
        "colab": {
          "base_uri": "https://localhost:8080/",
          "height": 34
        }
      },
      "source": [
        "from sklearn.metrics import accuracy_score\n",
        "\n",
        "print(\"LogisticRegression Classifier on PCA(n_components = 14) - Accuracy: \",accuracy_score(y_test, y_pred))"
      ],
      "execution_count": 35,
      "outputs": [
        {
          "output_type": "stream",
          "text": [
            "LogisticRegression Classifier on PCA(n_components = 14) - Accuracy:  0.7663\n"
          ],
          "name": "stdout"
        }
      ]
    },
    {
      "cell_type": "code",
      "metadata": {
        "id": "00J7aqBAXuhk",
        "colab_type": "code",
        "colab": {}
      },
      "source": [
        ""
      ],
      "execution_count": 0,
      "outputs": []
    },
    {
      "cell_type": "markdown",
      "metadata": {
        "colab_type": "text",
        "id": "5P28OztLXlkb"
      },
      "source": [
        "Using LogisticRegression Classifier on PCA(n_components = 187)"
      ]
    },
    {
      "cell_type": "code",
      "metadata": {
        "colab_type": "code",
        "id": "HLJUfVdYXlkc",
        "colab": {}
      },
      "source": [
        "pca = PCA(n_components = 187)\n",
        "X_train_pca=pca.fit_transform(X_train)\n",
        "X_test_pca = pca.transform(X_test)"
      ],
      "execution_count": 0,
      "outputs": []
    },
    {
      "cell_type": "code",
      "metadata": {
        "colab_type": "code",
        "outputId": "b05e44a4-5c98-4e9f-a874-9c2e0e99ec9e",
        "id": "ISfFow2bXlkf",
        "colab": {
          "base_uri": "https://localhost:8080/",
          "height": 68
        }
      },
      "source": [
        "\n",
        "from sklearn.linear_model import LogisticRegression\n",
        "\n",
        "\n",
        "start = timer()\n",
        "\n",
        "\n",
        "log_clf = LogisticRegression(solver = 'lbfgs', multi_class='auto')\n",
        "\n",
        "log_clf.fit(X_train_pca, y_train)\n",
        "\n",
        "\n",
        "end = timer()\n",
        "print(\"LogisticRegression Classifier on PCA(n_components = 187) - Training time: \", end - start) # Time in seconds, e.g. 5.38091952400282\n"
      ],
      "execution_count": 37,
      "outputs": [
        {
          "output_type": "stream",
          "text": [
            "LogisticRegression Classifier on PCA(n_components = 187) - Training time:  14.226207131998308\n"
          ],
          "name": "stdout"
        },
        {
          "output_type": "stream",
          "text": [
            "/usr/local/lib/python3.6/dist-packages/sklearn/linear_model/logistic.py:947: ConvergenceWarning: lbfgs failed to converge. Increase the number of iterations.\n",
            "  \"of iterations.\", ConvergenceWarning)\n"
          ],
          "name": "stderr"
        }
      ]
    },
    {
      "cell_type": "code",
      "metadata": {
        "id": "FiJgCmwGEfQN",
        "colab_type": "code",
        "colab": {}
      },
      "source": [
        "#predict\n",
        "y_pred = log_clf.predict(X_test_pca)"
      ],
      "execution_count": 0,
      "outputs": []
    },
    {
      "cell_type": "code",
      "metadata": {
        "id": "YR0Syes16Lu5",
        "colab_type": "code",
        "colab": {
          "base_uri": "https://localhost:8080/",
          "height": 34
        },
        "outputId": "ff551289-2234-4eca-ff59-613cad592f6c"
      },
      "source": [
        "from sklearn.metrics import accuracy_score\n",
        "\n",
        "print(\"LogisticRegression Classifier on PCA(n_components = 187) - Accuracy: \",accuracy_score(y_test, y_pred))"
      ],
      "execution_count": 39,
      "outputs": [
        {
          "output_type": "stream",
          "text": [
            "LogisticRegression Classifier on PCA(n_components = 187) - Accuracy:  0.8421\n"
          ],
          "name": "stdout"
        }
      ]
    },
    {
      "cell_type": "code",
      "metadata": {
        "id": "GJwgkhgwLIM6",
        "colab_type": "code",
        "colab": {}
      },
      "source": [
        ""
      ],
      "execution_count": 0,
      "outputs": []
    },
    {
      "cell_type": "markdown",
      "metadata": {
        "colab_type": "text",
        "id": "kWV3dzstXxEZ"
      },
      "source": [
        "Using LogisticRegression Classifier on PCA(n_components = 784)"
      ]
    },
    {
      "cell_type": "code",
      "metadata": {
        "colab_type": "code",
        "id": "SFETs4kSXxEb",
        "colab": {}
      },
      "source": [
        "pca = PCA(n_components = 784)\n",
        "X_train_pca=pca.fit_transform(X_train)\n",
        "X_test_pca = pca.transform(X_test)"
      ],
      "execution_count": 0,
      "outputs": []
    },
    {
      "cell_type": "code",
      "metadata": {
        "colab_type": "code",
        "outputId": "e8bf8b2f-b6c4-40fc-f4c6-d99cd1a31c6d",
        "id": "VOVJwbk_XxEd",
        "colab": {
          "base_uri": "https://localhost:8080/",
          "height": 68
        }
      },
      "source": [
        "\n",
        "from sklearn.linear_model import LogisticRegression\n",
        "\n",
        "\n",
        "start = timer()\n",
        "\n",
        "\n",
        "log_clf = LogisticRegression(solver = 'lbfgs', multi_class='auto')\n",
        "\n",
        "log_clf.fit(X_train_pca, y_train)\n",
        "\n",
        "\n",
        "end = timer()\n",
        "print(\"LogisticRegression Classifier on PCA(n_components = 784) - Training time: \", end - start) # Time in seconds, e.g. 5.38091952400282\n",
        "\n",
        "\n"
      ],
      "execution_count": 41,
      "outputs": [
        {
          "output_type": "stream",
          "text": [
            "LogisticRegression Classifier on PCA(n_components = 784) - Training time:  40.15293888299857\n"
          ],
          "name": "stdout"
        },
        {
          "output_type": "stream",
          "text": [
            "/usr/local/lib/python3.6/dist-packages/sklearn/linear_model/logistic.py:947: ConvergenceWarning: lbfgs failed to converge. Increase the number of iterations.\n",
            "  \"of iterations.\", ConvergenceWarning)\n"
          ],
          "name": "stderr"
        }
      ]
    },
    {
      "cell_type": "code",
      "metadata": {
        "id": "xDhyNHCKEg0a",
        "colab_type": "code",
        "colab": {}
      },
      "source": [
        "#predict\n",
        "y_pred = log_clf.predict(X_test_pca)"
      ],
      "execution_count": 0,
      "outputs": []
    },
    {
      "cell_type": "code",
      "metadata": {
        "colab_type": "code",
        "outputId": "296944b0-2d20-42fa-87d5-27ce1f0bae3c",
        "id": "5IIFSJfVXxEf",
        "colab": {
          "base_uri": "https://localhost:8080/",
          "height": 34
        }
      },
      "source": [
        "from sklearn.metrics import accuracy_score\n",
        "\n",
        "print(\"LogisticRegression Classifier on PCA(n_components = 784) - Accuracy: \",accuracy_score(y_test, y_pred))"
      ],
      "execution_count": 43,
      "outputs": [
        {
          "output_type": "stream",
          "text": [
            "LogisticRegression Classifier on PCA(n_components = 784) - Accuracy:  0.8439\n"
          ],
          "name": "stdout"
        }
      ]
    },
    {
      "cell_type": "code",
      "metadata": {
        "id": "Wxdbr6unXwJo",
        "colab_type": "code",
        "colab": {}
      },
      "source": [
        ""
      ],
      "execution_count": 0,
      "outputs": []
    },
    {
      "cell_type": "code",
      "metadata": {
        "id": "9o4U_jvAXwMy",
        "colab_type": "code",
        "colab": {}
      },
      "source": [
        ""
      ],
      "execution_count": 0,
      "outputs": []
    },
    {
      "cell_type": "code",
      "metadata": {
        "id": "qNEzKIa9XwPm",
        "colab_type": "code",
        "colab": {}
      },
      "source": [
        ""
      ],
      "execution_count": 0,
      "outputs": []
    },
    {
      "cell_type": "code",
      "metadata": {
        "id": "7Xha164yXwSn",
        "colab_type": "code",
        "colab": {}
      },
      "source": [
        ""
      ],
      "execution_count": 0,
      "outputs": []
    },
    {
      "cell_type": "code",
      "metadata": {
        "id": "sOLLdaPJXwVe",
        "colab_type": "code",
        "colab": {}
      },
      "source": [
        ""
      ],
      "execution_count": 0,
      "outputs": []
    },
    {
      "cell_type": "code",
      "metadata": {
        "id": "H9wO0lqZXwY6",
        "colab_type": "code",
        "colab": {}
      },
      "source": [
        ""
      ],
      "execution_count": 0,
      "outputs": []
    },
    {
      "cell_type": "code",
      "metadata": {
        "id": "HAdjg2xVXwbj",
        "colab_type": "code",
        "colab": {}
      },
      "source": [
        ""
      ],
      "execution_count": 0,
      "outputs": []
    },
    {
      "cell_type": "code",
      "metadata": {
        "id": "Rd4vjhj9Xweg",
        "colab_type": "code",
        "colab": {}
      },
      "source": [
        ""
      ],
      "execution_count": 0,
      "outputs": []
    },
    {
      "cell_type": "code",
      "metadata": {
        "id": "1mk1AQDhLIQA",
        "colab_type": "code",
        "colab": {}
      },
      "source": [
        ""
      ],
      "execution_count": 0,
      "outputs": []
    },
    {
      "cell_type": "code",
      "metadata": {
        "id": "zk3DwO4Zxaag",
        "colab_type": "code",
        "colab": {}
      },
      "source": [
        "from sklearn.svm import SVC\n",
        "\n",
        "svm_clf = SVC()\n",
        "\n",
        "svm_clf.fit(X_train_pca, y_train)\n",
        "\n",
        "y_pred = svm_clf.predict(X_test_pca)"
      ],
      "execution_count": 0,
      "outputs": []
    },
    {
      "cell_type": "code",
      "metadata": {
        "id": "4xrQEuq-xMlK",
        "colab_type": "code",
        "outputId": "fd68a8e5-dec6-4f8f-e24f-3f6a66bf3844",
        "colab": {
          "base_uri": "https://localhost:8080/",
          "height": 85
        }
      },
      "source": [
        "from sklearn.linear_model import LogisticRegression\n",
        "\n",
        "\n",
        "log_clf = LogisticRegression()\n",
        "\n",
        "log_clf.fit(X_reduced, y_train)\n",
        "\n",
        "y_pred = log_clf.predict(X_test)"
      ],
      "execution_count": 0,
      "outputs": [
        {
          "output_type": "stream",
          "text": [
            "/usr/local/lib/python3.6/dist-packages/sklearn/linear_model/logistic.py:432: FutureWarning: Default solver will be changed to 'lbfgs' in 0.22. Specify a solver to silence this warning.\n",
            "  FutureWarning)\n",
            "/usr/local/lib/python3.6/dist-packages/sklearn/linear_model/logistic.py:469: FutureWarning: Default multi_class will be changed to 'auto' in 0.22. Specify the multi_class option to silence this warning.\n",
            "  \"this warning.\", FutureWarning)\n"
          ],
          "name": "stderr"
        }
      ]
    },
    {
      "cell_type": "code",
      "metadata": {
        "id": "U-embnf7SDkx",
        "colab_type": "code",
        "colab": {}
      },
      "source": [
        "from sklearn.ensemble import RandomForestClassifier\n",
        "from sklearn.ensemble import VotingClassifier\n",
        "from sklearn.linear_model import LogisticRegression\n",
        "from sklearn.svm import SVC\n",
        "\n",
        "log_clf = LogisticRegression()\n",
        "rnd_clf = RandomForestClassifier()\n",
        "svm_clf = SVC()\n",
        "voting_clf = VotingClassifier(\n",
        "    estimators=[('lr', log_clf), ('rf', rnd_clf), ('svc', svm_clf)],\n",
        "    voting='hard') \n",
        "voting_clf.fit(X_train, y_train)\n"
      ],
      "execution_count": 0,
      "outputs": []
    },
    {
      "cell_type": "markdown",
      "metadata": {
        "id": "SGUoI6fea8Kl",
        "colab_type": "text"
      },
      "source": [
        "\n",
        "Let’s look at each classifier’s accuracy on the test set: \n",
        "  "
      ]
    },
    {
      "cell_type": "code",
      "metadata": {
        "id": "kzgO3kKdauKm",
        "colab_type": "code",
        "colab": {}
      },
      "source": [
        "from sklearn.metrics import accuracy_score\n",
        "\n",
        "for clf in (log_clf, rnd_clf, svm_clf, voting_clf):\n",
        "  clf.fit(X_train, y_train)\n",
        "  y_pred = clf.predict(X_test)\n",
        "  \n",
        "  \n",
        "print(clf.class.name, accuracy_score(y_test, y_pred))"
      ],
      "execution_count": 0,
      "outputs": []
    },
    {
      "cell_type": "markdown",
      "metadata": {
        "id": "GaO-NRnOUVbH",
        "colab_type": "text"
      },
      "source": [
        ""
      ]
    },
    {
      "cell_type": "code",
      "metadata": {
        "id": "mFe-NXmnoiqb",
        "colab_type": "code",
        "colab": {}
      },
      "source": [
        "import tensorflow as tf\n",
        "device_name = tf.test.gpu_device_name()\n",
        "if device_name != '/device:GPU:0':\n",
        "  raise SystemError('GPU device not found')\n",
        "print('Found GPU at: {}'.format(device_name))"
      ],
      "execution_count": 0,
      "outputs": []
    },
    {
      "cell_type": "code",
      "metadata": {
        "id": "4jME53TaojP8",
        "colab_type": "code",
        "colab": {}
      },
      "source": [
        ""
      ],
      "execution_count": 0,
      "outputs": []
    }
  ]
}